{
 "cells": [
  {
   "cell_type": "code",
   "execution_count": null,
   "metadata": {},
   "outputs": [],
   "source": [
    "# Install required packages\n",
    "\"langchain_core\",\n",
    "\"langchain-ollama\","
   ]
  },
  {
   "cell_type": "code",
   "execution_count": null,
   "metadata": {},
   "outputs": [],
   "source": [
    "from langchain_ollama import ChatOllama\n",
    "from langchain_core.output_parsers import StrOutputParser\n",
    "from langchain_core.prompts import ChatPromptTemplate\n",
    "\n",
    "# Langchain Ollama 사용\n",
    "llm = ChatOllama(\n",
    "    model=\"hf.co/mradermacher/Qwen2.5-14B-Gutenberg-1e-Delta-GGUF:Q4_K_S\",\n",
    ")\n",
    "\n",
    "# 프롬프트 설정\n",
    "prompt = ChatPromptTemplate.from_messages([\"Explain briefly about {topic}.\"])\n",
    "\n",
    "# LangChain \n",
    "chain = prompt | llm | StrOutputParser()\n",
    "\n",
    "response = chain.invoke({\"topic\": \"한국\"})"
   ]
  },
  {
   "cell_type": "code",
   "execution_count": 15,
   "metadata": {},
   "outputs": [
    {
     "name": "stdout",
     "output_type": "stream",
     "text": [
      "한국, also known as South Korea, is a country located in East Asia on the southern part of the Korean Peninsula. It shares its northern border with North Korea and has coastlines along the Yellow Sea to the west and the Sea of Japan (East Sea) to the east.\n",
      "\n",
      "Here are some key points about South Korea:\n",
      "\n",
      "1. Capital: Seoul, one of the largest metropolitan cities in the world\n",
      "\n",
      "2. Population: Approximately 51 million people\n",
      "\n",
      "3. Government: Presidential republic with a multi-party system\n",
      "\n",
      "4. Economy: Highly developed and technologically advanced; major industries include electronics, automobiles, shipbuilding, and telecommunications\n",
      "\n",
      "5. Culture: Rich heritage blending Confucian tradition with modern influences; known for its cuisine (kimchi, bibimbap), traditional arts (K-pop, K-drama), and festivals\n",
      "\n",
      "6. Education: High literacy rate and strong emphasis on education\n",
      "\n",
      "7. Technology: Leader in various tech sectors, including electronics and telecommunications\n",
      "\n",
      "8. Demographics: One of the world's most densely populated countries; largely homogeneous ethnically\n",
      "\n",
      "9. History: Divided from North Korea after World War II; South Korea experienced rapid industrialization and economic growth since the 1960s\n",
      "\n",
      "South Korea is known for its vibrant culture, technological advancements, and dynamic society that successfully blends tradition with modernity."
     ]
    }
   ],
   "source": [
    "from langchain_core.messages import AIMessageChunk\n",
    "\n",
    "for token in response:\n",
    "    if isinstance(token, AIMessageChunk):\n",
    "        print(token.content, end=\"\", flush=True)\n",
    "    elif isinstance(token, str):\n",
    "        print(token, end=\"\", flush=True)"
   ]
  },
  {
   "cell_type": "code",
   "execution_count": 16,
   "metadata": {},
   "outputs": [
    {
     "name": "stdout",
     "output_type": "stream",
     "text": [
      "한국, also known as South Korea, is a country located in East Asia on the southern part of the Korean Peninsula. Here are some key points:\n",
      "\n",
      "1. Capital: Seoul\n",
      "\n",
      "2. Population: Approximately 51 million people\n",
      "\n",
      "3. Government: Presidential republic\n",
      "\n",
      "4. Economy: Highly developed, with strong manufacturing and technology sectors\n",
      "\n",
      "5. Culture: Rich heritage blending Confucianism, Buddhism, and Shamanism; modern pop culture (K-pop, Korean dramas)\n",
      "\n",
      "6. Language: Korean language spoken by the majority of population\n",
      "\n",
      "7. History: Divided from North Korea since 1953; has experienced rapid economic growth since the 1960s\n",
      "\n",
      "8. Geography: Mountainous terrain with coastal plains along the west and south coasts\n",
      "\n",
      "9. Technology hub: Known for advancements in electronics, automotive industry, and shipbuilding\n",
      "\n",
      "10. Education system: Strong emphasis on education, leading to high literacy rates and academic achievement"
     ]
    }
   ],
   "source": [
    "async for chunks in chain.astream({\"topic\": \"한국\"}):\n",
    "    print(chunks, end=\"\", flush=True)"
   ]
  },
  {
   "cell_type": "code",
   "execution_count": null,
   "metadata": {},
   "outputs": [],
   "source": [
    "from langchain_ollama import ChatOllama\n",
    "\n",
    "llm = ChatOllama(\n",
    "    model=\"hf.co/mradermacher/Qwen2.5-14B-Gutenberg-1e-Delta-GGUF:Q4_K_S\",\n",
    "    format=\"json\",\n",
    "    temperature=0,\n",
    ")"
   ]
  },
  {
   "cell_type": "code",
   "execution_count": 18,
   "metadata": {},
   "outputs": [
    {
     "name": "stdout",
     "output_type": "stream",
     "text": [
      " places: \n",
      "1. 서울 (서울특별시)\n",
      "2. 부산 (부산광역시)\n",
      "3. 제주도 (제주특별자치도)\n",
      "4. 경주 (경상북도)\n",
      "5. 강원도 양평\n",
      "6. 팔공산과 송곳골이 있는 대구 (대구광역시)\n",
      "7. 전라도 여수\n",
      "8. 춘천 (강원도)\n",
      "9. 남산 타워와 인사동 거리가 있는 서울특별시\n",
      "10. 낙타 동상으로 유명한 창원 (경상남도)\n"
     ]
    }
   ],
   "source": [
    "prompt = \"Tell me 10 South Korea travel destinations. key: `places`. 답변은 한국말로 해줘\"\n",
    "\n",
    "response = llm.invoke(prompt)\n",
    "\n",
    "print(response.content)"
   ]
  },
  {
   "cell_type": "code",
   "execution_count": null,
   "metadata": {},
   "outputs": [],
   "source": []
  }
 ],
 "metadata": {
  "kernelspec": {
   "display_name": "Git-Webpages",
   "language": "python",
   "name": "python3"
  },
  "language_info": {
   "codemirror_mode": {
    "name": "ipython",
    "version": 3
   },
   "file_extension": ".py",
   "mimetype": "text/x-python",
   "name": "python",
   "nbconvert_exporter": "python",
   "pygments_lexer": "ipython3",
   "version": "3.9.21"
  }
 },
 "nbformat": 4,
 "nbformat_minor": 2
}
